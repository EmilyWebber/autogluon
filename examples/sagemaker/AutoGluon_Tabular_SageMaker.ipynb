{
 "cells": [
  {
   "cell_type": "markdown",
   "metadata": {
    "Collapsed": "false"
   },
   "source": [
    "# AutoGluon Tabular with SageMaker\n",
    "\n",
    "[AutoGluon](https://github.com/awslabs/autogluon) automates machine learning tasks enabling you to easily achieve strong predictive performance in your applications. With just a few lines of code, you can train and deploy high-accuracy deep learning models on tabular, image, and text data.\n",
    "This notebook shows how to use AutoGluon-Tabular with Amazon SageMaker by creating custom containers."
   ]
  },
  {
   "cell_type": "code",
   "execution_count": 2,
   "metadata": {
    "Collapsed": "false"
   },
   "outputs": [],
   "source": [
    "# Imports\n",
    "import os\n",
    "import boto3\n",
    "import sagemaker\n",
    "from time import sleep\n",
    "from collections import Counter\n",
    "import pandas as pd\n",
    "from sagemaker import get_execution_role, local, Model, utils, fw_utils, s3\n",
    "from sagemaker.estimator import Estimator\n",
    "from sagemaker.predictor import Predictor as RealTimePredictor\n",
    "from sagemaker.serializers import CSVSerializer\n",
    "\n",
    "from sklearn.metrics import accuracy_score, classification_report\n",
    "from IPython.core.display import display, HTML\n",
    "from IPython.core.interactiveshell import InteractiveShell\n",
    "\n",
    "# Print settings\n",
    "InteractiveShell.ast_node_interactivity = \"all\"\n",
    "pd.set_option('display.max_columns', 500)\n",
    "pd.set_option('display.max_rows', 10)\n",
    "\n",
    "# Account/s3 setup\n",
    "session = sagemaker.Session()\n",
    "local_session = local.LocalSession()\n",
    "bucket = session.default_bucket()\n",
    "prefix = 'sagemaker/autogluon-tabular'\n",
    "region = session.boto_region_name\n",
    "role = get_execution_role()\n",
    "client = session.boto_session.client(\n",
    "    \"sts\", region_name=region, endpoint_url=utils.sts_regional_endpoint(region)\n",
    "    )\n"
   ]
  },
  {
   "cell_type": "markdown",
   "metadata": {
    "Collapsed": "false"
   },
   "source": [
    "First, build autogluon package to copy into docker image."
   ]
  },
  {
   "cell_type": "code",
   "execution_count": 4,
   "metadata": {
    "Collapsed": "false"
   },
   "outputs": [
    {
     "name": "stdout",
     "output_type": "stream",
     "text": [
      "download: s3://sagemaker-sample-data-us-east-1/autopilot/direct_marketing/bank-additional.zip to ./bank-additional.zip\n"
     ]
    }
   ],
   "source": [
    "# Download and unzip the data\n",
    "!aws s3 cp --region {region} s3://sagemaker-sample-data-{region}/autopilot/direct_marketing/bank-additional.zip .\n",
    "!unzip -qq -o bank-additional.zip\n",
    "!rm bank-additional.zip\n",
    "\n",
    "local_data_path = './bank-additional/bank-additional-full.csv'\n",
    "data = pd.read_csv(local_data_path)\n",
    "\n",
    "# Split train/test data\n",
    "train = data.sample(frac=0.7, random_state=42)\n",
    "test = data.drop(train.index)\n",
    "\n",
    "# Split test X/y\n",
    "label = 'y'\n",
    "y_test = test[label]\n",
    "X_test = test.drop(columns=[label])"
   ]
  },
  {
   "cell_type": "markdown",
   "metadata": {
    "Collapsed": "false"
   },
   "source": [
    "##### Check the data"
   ]
  },
  {
   "cell_type": "markdown",
   "metadata": {
    "Collapsed": "false"
   },
   "source": [
    "Upload the data to s3"
   ]
  },
  {
   "cell_type": "code",
   "execution_count": 5,
   "metadata": {
    "Collapsed": "false"
   },
   "outputs": [],
   "source": [
    "train_file = 'train.csv'\n",
    "train.to_csv(train_file,index=False)\n",
    "train_s3_path = session.upload_data(train_file, key_prefix='{}/data'.format(prefix))\n",
    "\n",
    "test_file = 'test.csv'\n",
    "test.to_csv(test_file,index=False)\n",
    "test_s3_path = session.upload_data(test_file, key_prefix='{}/data'.format(prefix))\n",
    "\n",
    "X_test_file = 'X_test.csv'\n",
    "X_test.to_csv(X_test_file,index=False)\n",
    "X_test_s3_path = session.upload_data(X_test_file, key_prefix='{}/data'.format(prefix))\n",
    "\n",
    "train_s3_path = 's3://sagemaker-us-east-1-181880743555/sagemaker/autogluon-tabular/data/train.csv'"
   ]
  },
  {
   "cell_type": "code",
   "execution_count": 16,
   "metadata": {},
   "outputs": [
    {
     "name": "stdout",
     "output_type": "stream",
     "text": [
      "Overwriting src/requirements.txt\n"
     ]
    }
   ],
   "source": [
    "%%writefile src/requirements.txt\n",
    "# git+git://github.com/EmilyWebber/autogluon.git\n",
    "autogluon\n",
    "PrettyTable\n",
    "bokeh\n",
    "numpy==1.16.1\n",
    "boto3\n",
    "matplotlib"
   ]
  },
  {
   "cell_type": "code",
   "execution_count": 21,
   "metadata": {
    "Collapsed": "false"
   },
   "outputs": [],
   "source": [
    "from sagemaker.mxnet.estimator import MXNet\n",
    "from sagemaker import get_execution_role\n",
    "\n",
    "role = get_execution_role()\n",
    "\n",
    "estimator = MXNet(source_dir = 'src',\n",
    "                    entry_point = 'train.py',\n",
    "                    role=role,\n",
    "                    framework_version = '1.7.0',\n",
    "                    py_version = 'py3',\n",
    "                    instance_count=1,\n",
    "                    instance_type='ml.m5.2xlarge',\n",
    "                    volume_size=100,\n",
    "                    tags = [{\"Key\": \"autogluon-version\",\n",
    "                        \"Value\":\"vanilla\"}],\n",
    "#                              \"Value\":\"git+git://github.com/EmilyWebber/autogluon.git\"}],\n",
    "                    hyperparameters = {'fit_args': { 'label': 'y', \n",
    "                                        'presets': ['optimize_for_deployment']},\n",
    "                                        'feature_importance': True })         \n",
    "\n",
    "train_s3_path = 's3://sagemaker-us-east-1-181880743555/sagemaker/autogluon-tabular/data/train.csv'\n",
    "\n",
    "estimator.fit(train_s3_path, wait=False)"
   ]
  },
  {
   "cell_type": "code",
   "execution_count": null,
   "metadata": {},
   "outputs": [],
   "source": []
  }
 ],
 "metadata": {
  "instance_type": "ml.g4dn.xlarge",
  "kernelspec": {
   "display_name": "Python 3 (Data Science)",
   "language": "python",
   "name": "python3__SAGEMAKER_INTERNAL__arn:aws:sagemaker:us-east-1:081325390199:image/datascience-1.0"
  },
  "language_info": {
   "codemirror_mode": {
    "name": "ipython",
    "version": 3
   },
   "file_extension": ".py",
   "mimetype": "text/x-python",
   "name": "python",
   "nbconvert_exporter": "python",
   "pygments_lexer": "ipython3",
   "version": "3.7.6"
  }
 },
 "nbformat": 4,
 "nbformat_minor": 4
}
